{
  "nbformat": 4,
  "nbformat_minor": 0,
  "metadata": {
    "colab": {
      "provenance": []
    },
    "kernelspec": {
      "name": "python3",
      "display_name": "Python 3"
    },
    "language_info": {
      "name": "python"
    }
  },
  "cells": [
    {
      "cell_type": "code",
      "execution_count": 1,
      "metadata": {
        "colab": {
          "base_uri": "https://localhost:8080/"
        },
        "id": "_HI9lopQJbQe",
        "outputId": "8eb954fe-de8e-41a2-ddec-c057759cee34"
      },
      "outputs": [
        {
          "output_type": "stream",
          "name": "stdout",
          "text": [
            "Requirement already satisfied: Spacy in /usr/local/lib/python3.10/dist-packages (3.6.1)\n",
            "Requirement already satisfied: spacy-legacy<3.1.0,>=3.0.11 in /usr/local/lib/python3.10/dist-packages (from Spacy) (3.0.12)\n",
            "Requirement already satisfied: spacy-loggers<2.0.0,>=1.0.0 in /usr/local/lib/python3.10/dist-packages (from Spacy) (1.0.5)\n",
            "Requirement already satisfied: murmurhash<1.1.0,>=0.28.0 in /usr/local/lib/python3.10/dist-packages (from Spacy) (1.0.10)\n",
            "Requirement already satisfied: cymem<2.1.0,>=2.0.2 in /usr/local/lib/python3.10/dist-packages (from Spacy) (2.0.8)\n",
            "Requirement already satisfied: preshed<3.1.0,>=3.0.2 in /usr/local/lib/python3.10/dist-packages (from Spacy) (3.0.9)\n",
            "Requirement already satisfied: thinc<8.2.0,>=8.1.8 in /usr/local/lib/python3.10/dist-packages (from Spacy) (8.1.12)\n",
            "Requirement already satisfied: wasabi<1.2.0,>=0.9.1 in /usr/local/lib/python3.10/dist-packages (from Spacy) (1.1.2)\n",
            "Requirement already satisfied: srsly<3.0.0,>=2.4.3 in /usr/local/lib/python3.10/dist-packages (from Spacy) (2.4.8)\n",
            "Requirement already satisfied: catalogue<2.1.0,>=2.0.6 in /usr/local/lib/python3.10/dist-packages (from Spacy) (2.0.10)\n",
            "Requirement already satisfied: typer<0.10.0,>=0.3.0 in /usr/local/lib/python3.10/dist-packages (from Spacy) (0.9.0)\n",
            "Requirement already satisfied: pathy>=0.10.0 in /usr/local/lib/python3.10/dist-packages (from Spacy) (0.10.3)\n",
            "Requirement already satisfied: smart-open<7.0.0,>=5.2.1 in /usr/local/lib/python3.10/dist-packages (from Spacy) (6.4.0)\n",
            "Requirement already satisfied: tqdm<5.0.0,>=4.38.0 in /usr/local/lib/python3.10/dist-packages (from Spacy) (4.66.1)\n",
            "Requirement already satisfied: numpy>=1.15.0 in /usr/local/lib/python3.10/dist-packages (from Spacy) (1.23.5)\n",
            "Requirement already satisfied: requests<3.0.0,>=2.13.0 in /usr/local/lib/python3.10/dist-packages (from Spacy) (2.31.0)\n",
            "Requirement already satisfied: pydantic!=1.8,!=1.8.1,<3.0.0,>=1.7.4 in /usr/local/lib/python3.10/dist-packages (from Spacy) (1.10.13)\n",
            "Requirement already satisfied: jinja2 in /usr/local/lib/python3.10/dist-packages (from Spacy) (3.1.2)\n",
            "Requirement already satisfied: setuptools in /usr/local/lib/python3.10/dist-packages (from Spacy) (67.7.2)\n",
            "Requirement already satisfied: packaging>=20.0 in /usr/local/lib/python3.10/dist-packages (from Spacy) (23.2)\n",
            "Requirement already satisfied: langcodes<4.0.0,>=3.2.0 in /usr/local/lib/python3.10/dist-packages (from Spacy) (3.3.0)\n",
            "Requirement already satisfied: typing-extensions>=4.2.0 in /usr/local/lib/python3.10/dist-packages (from pydantic!=1.8,!=1.8.1,<3.0.0,>=1.7.4->Spacy) (4.5.0)\n",
            "Requirement already satisfied: charset-normalizer<4,>=2 in /usr/local/lib/python3.10/dist-packages (from requests<3.0.0,>=2.13.0->Spacy) (3.3.2)\n",
            "Requirement already satisfied: idna<4,>=2.5 in /usr/local/lib/python3.10/dist-packages (from requests<3.0.0,>=2.13.0->Spacy) (3.6)\n",
            "Requirement already satisfied: urllib3<3,>=1.21.1 in /usr/local/lib/python3.10/dist-packages (from requests<3.0.0,>=2.13.0->Spacy) (2.0.7)\n",
            "Requirement already satisfied: certifi>=2017.4.17 in /usr/local/lib/python3.10/dist-packages (from requests<3.0.0,>=2.13.0->Spacy) (2023.11.17)\n",
            "Requirement already satisfied: blis<0.8.0,>=0.7.8 in /usr/local/lib/python3.10/dist-packages (from thinc<8.2.0,>=8.1.8->Spacy) (0.7.11)\n",
            "Requirement already satisfied: confection<1.0.0,>=0.0.1 in /usr/local/lib/python3.10/dist-packages (from thinc<8.2.0,>=8.1.8->Spacy) (0.1.4)\n",
            "Requirement already satisfied: click<9.0.0,>=7.1.1 in /usr/local/lib/python3.10/dist-packages (from typer<0.10.0,>=0.3.0->Spacy) (8.1.7)\n",
            "Requirement already satisfied: MarkupSafe>=2.0 in /usr/local/lib/python3.10/dist-packages (from jinja2->Spacy) (2.1.3)\n"
          ]
        }
      ],
      "source": [
        "!pip install Spacy"
      ]
    },
    {
      "cell_type": "code",
      "source": [
        "import spacy\n",
        "from tabulate import tabulate"
      ],
      "metadata": {
        "id": "4ByfE7cGJ3ul"
      },
      "execution_count": 3,
      "outputs": []
    },
    {
      "cell_type": "code",
      "source": [
        "\n",
        "\n",
        "\n",
        "# Load the SpaCy language model\n",
        "nlp = spacy.load(\"en_core_web_sm\")\n",
        "\n",
        "# Function to perform morphological analysis on a sentence\n",
        "def analyze_sentence(sentence):\n",
        "    doc = nlp(sentence)\n",
        "    inflations = []\n",
        "    declensions = []\n",
        "\n",
        "    for token in doc:\n",
        "        # Analyze inflation (prefixes and suffixes)\n",
        "        inflation = (token.text, f\"{token.prefix_}-{token.suffix_}\")\n",
        "        inflations.append(inflation)\n",
        "\n",
        "        # Analyze declensions (parts of speech)\n",
        "        declension = (token.text, token.pos_)\n",
        "        declensions.append(declension)\n",
        "\n",
        "    return inflations, declensions\n",
        "\n",
        "# get input from user for various sentences\n",
        "interrogative_sentence = \"What is the weather like today?\" # or interrogative_sentence = input(\"Enter an interrogative Sentence.\")\n",
        "declarative_sentence = \"The weather is sunny.\" # or declarative_sentence = input(\"Enter an declarative Sentence.\")\n",
        "complex_sentence = \"I went to the store, but they were closed, so I had to go to another store.\" # or complex_sentence = input(\"Enter an complex sentence using conjunction.\")\n",
        "\n",
        "\n",
        "# Process the sentences with spaCy\n",
        "interrogative_doc = nlp(interrogative_sentence)\n",
        "declarative_doc = nlp(declarative_sentence)\n",
        "complex_doc = nlp(complex_sentence)\n",
        "\n",
        "\n",
        "# Print the morphological analysis for interrogative sentence\n",
        "for token in interrogative_doc:\n",
        "    print(token.text, token.pos_)\n",
        "print(\"\\n\")\n",
        "\n",
        "\n",
        "# Print the morphological analysis for declarative sentence\n",
        "for token in declarative_doc:\n",
        "    print(token.text, token.pos_)\n",
        "print(\"\\n\")\n",
        "\n",
        "\n",
        "# Print the morphological analysis for complex sentence\n",
        "for token in complex_doc:\n",
        "    print(token.text, token.pos_)\n",
        "\n",
        "\n",
        "# Analyze the sentences\n",
        "inflations_interrogative, declensions_interrogative = analyze_sentence(interrogative_sentence)\n",
        "inflations_declarative, declensions_declarative = analyze_sentence(declarative_sentence)\n",
        "inflations_complex, declensions_complex = analyze_sentence(complex_sentence)\n",
        "\n",
        "# Create tables\n",
        "table1 = [[\"Word\", \"Inflation\"]]\n",
        "table1.extend(inflations_interrogative)\n",
        "\n",
        "table2 = [[\"Word\", \"Declension\"]]\n",
        "table2.extend(declensions_interrogative)\n",
        "\n",
        "\n",
        "# Print the tables\n",
        "print(\"Table 1: Inflation\")\n",
        "print(tabulate(table1, headers=\"firstrow\"))\n",
        "\n",
        "\n",
        "print(\"\\nTable 2: Declension\")\n",
        "print(tabulate(table2, headers=\"firstrow\"))\n"
      ],
      "metadata": {
        "colab": {
          "base_uri": "https://localhost:8080/"
        },
        "id": "3NxNx4UaKC8J",
        "outputId": "911bee7f-3b4f-43d4-bb6a-fc3ad7ef0ad9"
      },
      "execution_count": 4,
      "outputs": [
        {
          "output_type": "stream",
          "name": "stdout",
          "text": [
            "What PRON\n",
            "is AUX\n",
            "the DET\n",
            "weather NOUN\n",
            "like ADP\n",
            "today NOUN\n",
            "? PUNCT\n",
            "\n",
            "\n",
            "The DET\n",
            "weather NOUN\n",
            "is AUX\n",
            "sunny ADJ\n",
            ". PUNCT\n",
            "\n",
            "\n",
            "I PRON\n",
            "went VERB\n",
            "to ADP\n",
            "the DET\n",
            "store NOUN\n",
            ", PUNCT\n",
            "but CCONJ\n",
            "they PRON\n",
            "were AUX\n",
            "closed VERB\n",
            ", PUNCT\n",
            "so CCONJ\n",
            "I PRON\n",
            "had VERB\n",
            "to PART\n",
            "go VERB\n",
            "to ADP\n",
            "another DET\n",
            "store NOUN\n",
            ". PUNCT\n",
            "Table 1: Inflation\n",
            "Word     Inflation\n",
            "-------  -----------\n",
            "What     W-hat\n",
            "is       i-is\n",
            "the      t-the\n",
            "weather  w-her\n",
            "like     l-ike\n",
            "today    t-day\n",
            "?        ?-?\n",
            "\n",
            "Table 2: Declension\n",
            "Word     Declension\n",
            "-------  ------------\n",
            "What     PRON\n",
            "is       AUX\n",
            "the      DET\n",
            "weather  NOUN\n",
            "like     ADP\n",
            "today    NOUN\n",
            "?        PUNCT\n"
          ]
        }
      ]
    }
  ]
}