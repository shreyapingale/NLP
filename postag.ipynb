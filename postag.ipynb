{
  "nbformat": 4,
  "nbformat_minor": 0,
  "metadata": {
    "colab": {
      "provenance": []
    },
    "kernelspec": {
      "name": "python3",
      "display_name": "Python 3"
    },
    "language_info": {
      "name": "python"
    }
  },
  "cells": [
    {
      "cell_type": "code",
      "execution_count": 1,
      "metadata": {
        "colab": {
          "base_uri": "https://localhost:8080/"
        },
        "id": "TS03_lCgMtmW",
        "outputId": "f48df0bf-f0df-4ca5-cf59-bc08f6367c23"
      },
      "outputs": [
        {
          "output_type": "stream",
          "name": "stderr",
          "text": [
            "[nltk_data] Downloading package punkt to /root/nltk_data...\n",
            "[nltk_data]   Unzipping tokenizers/punkt.zip.\n",
            "[nltk_data] Downloading package averaged_perceptron_tagger to\n",
            "[nltk_data]     /root/nltk_data...\n",
            "[nltk_data]   Unzipping taggers/averaged_perceptron_tagger.zip.\n",
            "[nltk_data] Downloading package tagsets to /root/nltk_data...\n"
          ]
        },
        {
          "output_type": "stream",
          "name": "stdout",
          "text": [
            "VBG: verb, present participle or gerund\n",
            "    telegraphing stirring focusing angering judging stalling lactating\n",
            "    hankerin' alleging veering capping approaching traveling besieging\n",
            "    encrypting interrupting erasing wincing ...\n",
            "(S\n",
            "  (NP the/DT little/JJ yellow/JJ dog/NN)\n",
            "  barked/VBD\n",
            "  at/IN\n",
            "  (NP the/DT cat/NN))\n",
            "(NP the/DT little/JJ yellow/JJ dog/NN)\n",
            "('barked', 'VBD')\n",
            "('at', 'IN')\n",
            "(NP the/DT cat/NN)\n",
            "Counter({'DT': 2, 'JJ': 2, 'NN': 2, 'VBD': 1, 'IN': 1})\n"
          ]
        },
        {
          "output_type": "stream",
          "name": "stderr",
          "text": [
            "[nltk_data]   Unzipping help/tagsets.zip.\n"
          ]
        }
      ],
      "source": [
        "text = \"The way to get started is to quit talking and begin doing.\"\n",
        "\n",
        "from nltk import word_tokenize\n",
        "\n",
        "import nltk\n",
        "nltk.download('punkt')\n",
        "nltk.download('averaged_perceptron_tagger')\n",
        "nltk.download('tagsets')\n",
        "\n",
        "\n",
        "tokenizer = word_tokenize(text)\n",
        "tokenizer\n",
        "\n",
        "from nltk import pos_tag\n",
        "\n",
        "pos_tag(tokenizer)\n",
        "\n",
        "nltk.help.upenn_tagset(\"VBG\")\n",
        "\n",
        "\"\"\"**Chunking**\"\"\"\n",
        "\n",
        "sentence = \"the little yellow dog barked at the cat\"\n",
        "\n",
        "\n",
        "grammar = \"NP: {<DT>?<JJ>*<NN>}\"\n",
        "\n",
        "cp = nltk.RegexpParser(grammar)\n",
        "\n",
        "tokens = nltk.word_tokenize (sentence)\n",
        "\n",
        "tags = nltk.pos_tag(tokens)\n",
        "\n",
        "chunks = cp.parse(tags)\n",
        "\n",
        "print(chunks)\n",
        "\n",
        "# Print the chunks\n",
        "for chunk in chunks:\n",
        "    print(chunk)\n",
        "\n",
        "# result.draw()\n",
        "\n",
        "from collections import Counter\n",
        "\n",
        "counts = Counter(tag for word,  tag in tags)\n",
        "print(counts)\n"
      ]
    }
  ]
}